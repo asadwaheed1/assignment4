{
 "cells": [
  {
   "cell_type": "markdown",
   "metadata": {},
   "source": [
    "Roll No. **PIAIC255779**\n",
    "\n",
    "**Asad Waheed Gondal**"
   ]
  },
  {
   "cell_type": "markdown",
   "metadata": {},
   "source": [
    "## Python List Exercises"
   ]
  },
  {
   "cell_type": "markdown",
   "metadata": {},
   "source": [
    "### Chapter 3: Lists in Python"
   ]
  },
  {
   "cell_type": "markdown",
   "metadata": {},
   "source": [
    "* Exercise 3-1: Names"
   ]
  },
  {
   "cell_type": "code",
   "execution_count": 119,
   "metadata": {},
   "outputs": [
    {
     "name": "stdout",
     "output_type": "stream",
     "text": [
      "uzair\n",
      "umair\n",
      "ahmad\n"
     ]
    }
   ],
   "source": [
    "#Store the names of a few of your friends in a list called names.\n",
    "#Print each person’s name by accessing each element in the list, one at a time.\n",
    "friends_list = ['uzair','umair','ahmad']\n",
    "print(friends_list[0])\n",
    "print(friends_list[1])\n",
    "print(friends_list[2])"
   ]
  },
  {
   "cell_type": "markdown",
   "metadata": {},
   "source": [
    "* Exercise 3-2: Greetings"
   ]
  },
  {
   "cell_type": "code",
   "execution_count": 120,
   "metadata": {},
   "outputs": [
    {
     "name": "stdout",
     "output_type": "stream",
     "text": [
      "Hello uzair, hope you are having a wonderful day!\n",
      "Hello umair, hope you are having a wonderful day!\n",
      "Hello ahmad, hope you are having a wonderful day!\n"
     ]
    }
   ],
   "source": [
    "#Start with the list you used in Exercise 3-1, but instead of just printing each person’s name,\n",
    "#print a message to them. The text of each message should be the same, but each message should be\n",
    "#personalized with the person’s name.\n",
    "for name in friends_list:\n",
    "    print(f'Hello {name}, hope you are having a wonderful day!')\n"
   ]
  },
  {
   "cell_type": "markdown",
   "metadata": {},
   "source": [
    "* Exercise 3-3: Your Own List"
   ]
  },
  {
   "cell_type": "code",
   "execution_count": 121,
   "metadata": {},
   "outputs": [
    {
     "name": "stdout",
     "output_type": "stream",
     "text": [
      "I would like to own a Tesla Model S\n",
      "I would like to own a BMW i8\n",
      "I would like to own a Audi R8\n",
      "I would like to drive Porsche 911\n",
      "I would like to drive Mercedes-Benz G-Class\n"
     ]
    }
   ],
   "source": [
    "'''Think of your favorite mode of transportation, such as a motorcycle or a car,\n",
    "    and make a list that stores several examples.Use your list to print a series of statements\n",
    "    about these items, such as “I would like to own a Honda motorcycle.”'''\n",
    "favorite_cars = [\"Tesla Model S\", \"BMW i8\", \"Audi R8\", \"Porsche 911\", \"Mercedes-Benz G-Class\"]\n",
    "for car in favorite_cars[0:3]:\n",
    "    print(f'I would like to own a {car}')\n",
    "for car in favorite_cars[3:]:\n",
    "    print(f'I would like to drive {car}')"
   ]
  },
  {
   "cell_type": "markdown",
   "metadata": {},
   "source": [
    "* Exercise 3-4: Guest List"
   ]
  },
  {
   "cell_type": "code",
   "execution_count": 122,
   "metadata": {},
   "outputs": [
    {
     "name": "stdout",
     "output_type": "stream",
     "text": [
      "Dear Jahanzaib! I would like to invite you to a very special dinner!\n",
      "Dear Kamran! I would like to invite you to a very special dinner!\n",
      "Dear Asad! I would like to invite you to a very special dinner!\n",
      "Dear Hamza! I would like to invite you to a very special dinner!\n",
      "Dear Zia! I would like to invite you to a very special dinner!\n"
     ]
    }
   ],
   "source": [
    "#If you could invite anyone, living or deceased, to dinner, who would you invite?\n",
    "#Make a list that includes at least three people you’d like to invite to dinner.\n",
    "#Then use your list to print a message to each person, inviting them to dinner.\n",
    "invited_people:list = ['Jahanzaib','Kamran','Asad',\"Hamza\",'Zia']\n",
    "for person in invited_people:\n",
    "    print(f'Dear {person}! I would like to invite you to a very special dinner!')\n"
   ]
  },
  {
   "cell_type": "markdown",
   "metadata": {},
   "source": [
    "* Exercise 3-5: Changing Guest List"
   ]
  },
  {
   "cell_type": "code",
   "execution_count": 123,
   "metadata": {},
   "outputs": [
    {
     "name": "stdout",
     "output_type": "stream",
     "text": [
      "Asad couldn't make it to dinner.\n",
      "Dear Jahanzaib, I would like to invite you to very special dinner!\n",
      "Dear Kamran, I would like to invite you to very special dinner!\n",
      "Dear Ahmad, I would like to invite you to very special dinner!\n",
      "Dear Hamza, I would like to invite you to very special dinner!\n",
      "Dear Zia, I would like to invite you to very special dinner!\n"
     ]
    }
   ],
   "source": [
    "'''Start with your program from Exercise 3-4. Add a print() call at the end of your program, stating the name of the guest who can’t make it.\n",
    "Modify your list, replacing the name of the guest who can’t make it with the name of the new person you are inviting.\n",
    "Print a second set of invitation messages, one for each person who is still in your list.'''\n",
    "print(f\"{invited_people[2]} couldn't make it to dinner.\")\n",
    "invited_people.remove('Asad') #finds first matching object in list and removes it\n",
    "invited_people.insert(2,'Ahmad') # inserts item at specified index in list\n",
    "for person in invited_people: #using for loop to iterate over each item\n",
    "    print(f'Dear {person}, I would like to invite you to very special dinner!') #printing custom greeting message for every person"
   ]
  },
  {
   "cell_type": "markdown",
   "metadata": {},
   "source": [
    "* Exercise 3-6: More Guests"
   ]
  },
  {
   "cell_type": "code",
   "execution_count": 124,
   "metadata": {},
   "outputs": [
    {
     "name": "stdout",
     "output_type": "stream",
     "text": [
      "mid item index is 2\n",
      "Dear Ahsan, I would like to invite you to very special dinner!\n",
      "Dear Jahanzaib, I would like to invite you to very special dinner!\n",
      "Dear Farooq, I would like to invite you to very special dinner!\n",
      "Dear Kamran, I would like to invite you to very special dinner!\n",
      "Dear Ahmad, I would like to invite you to very special dinner!\n",
      "Dear Hamza, I would like to invite you to very special dinner!\n",
      "Dear Zia, I would like to invite you to very special dinner!\n",
      "Dear Nadeem, I would like to invite you to very special dinner!\n"
     ]
    }
   ],
   "source": [
    "#adding item in start of list, in middle of list and in end of list\n",
    "invited_people.insert(0,'Ahsan') #add one new guest to the beginning of your list\n",
    "mid_item = ((len(invited_people) -1) // 2)\n",
    "print(f'mid item index is {mid_item:.0f}')\n",
    "invited_people.insert(mid_item,\"Farooq\") #add one new guest to the middle of your list\n",
    "invited_people.append(\"Nadeem\") #add one new guest to the end of your list\n",
    "for person in invited_people:\n",
    "    print(f'Dear {person}, I would like to invite you to very special dinner!') #printing custom greeting message for every person"
   ]
  },
  {
   "cell_type": "markdown",
   "metadata": {},
   "source": [
    "* Exercise 3-7: Shrinking Guest List"
   ]
  },
  {
   "cell_type": "code",
   "execution_count": 125,
   "metadata": {},
   "outputs": [
    {
     "name": "stdout",
     "output_type": "stream",
     "text": [
      "Due to shortage of table space, I can only invite 2 people for dinner.\n",
      "Dear Nadeem sorry I couldn't invite you for dinner.\n",
      "Dear Zia sorry I couldn't invite you for dinner.\n",
      "Dear Hamza sorry I couldn't invite you for dinner.\n",
      "Dear Ahmad sorry I couldn't invite you for dinner.\n",
      "Dear Kamran sorry I couldn't invite you for dinner.\n",
      "Dear Farooq sorry I couldn't invite you for dinner.\n",
      "Dear Ahsan you are still invited to my dinner party.\n",
      "Dear Jahanzaib you are still invited to my dinner party.\n",
      "[]\n"
     ]
    }
   ],
   "source": [
    "print(\"Due to shortage of table space, I can only invite 2 people for dinner.\")\n",
    "while len(invited_people) > 2: # using while loop which runs until condition is true\n",
    "    name = invited_people.pop() #removes last item from list and return it which is assigned to name\n",
    "    print(f\"Dear {name} sorry I couldn't invite you for dinner.\")\n",
    "for person in invited_people:\n",
    "    print(f\"Dear {person} you are still invited to my dinner party.\")\n",
    "del invited_people[-1] #removes last item from list\n",
    "del invited_people[-1]\n",
    "print(invited_people)"
   ]
  },
  {
   "cell_type": "markdown",
   "metadata": {},
   "source": [
    "* Exercise 3-8: Seeing the World"
   ]
  },
  {
   "cell_type": "code",
   "execution_count": 126,
   "metadata": {},
   "outputs": [
    {
     "name": "stdout",
     "output_type": "stream",
     "text": [
      "original: ['Great Wall of China (China)', 'Colosseum (Rome, Italy)', 'Pyramids of Giza (Egypt)', 'Machu Picchu (Peru)', 'The Maldives']\n",
      "sorted: ['Colosseum (Rome, Italy)', 'Great Wall of China (China)', 'Machu Picchu (Peru)', 'Pyramids of Giza (Egypt)', 'The Maldives']\n",
      "original: ['Great Wall of China (China)', 'Colosseum (Rome, Italy)', 'Pyramids of Giza (Egypt)', 'Machu Picchu (Peru)', 'The Maldives']\n",
      "sorted reversed: ['The Maldives', 'Pyramids of Giza (Egypt)', 'Machu Picchu (Peru)', 'Great Wall of China (China)', 'Colosseum (Rome, Italy)']\n",
      "original: ['Great Wall of China (China)', 'Colosseum (Rome, Italy)', 'Pyramids of Giza (Egypt)', 'Machu Picchu (Peru)', 'The Maldives']\n",
      "reversed: ['The Maldives', 'Machu Picchu (Peru)', 'Pyramids of Giza (Egypt)', 'Colosseum (Rome, Italy)', 'Great Wall of China (China)']\n",
      "double reversed: ['Great Wall of China (China)', 'Colosseum (Rome, Italy)', 'Pyramids of Giza (Egypt)', 'Machu Picchu (Peru)', 'The Maldives']\n",
      "Sorted: ['Colosseum (Rome, Italy)', 'Great Wall of China (China)', 'Machu Picchu (Peru)', 'Pyramids of Giza (Egypt)', 'The Maldives']\n",
      "Reverse Sorted: ['The Maldives', 'Pyramids of Giza (Egypt)', 'Machu Picchu (Peru)', 'Great Wall of China (China)', 'Colosseum (Rome, Italy)']\n"
     ]
    }
   ],
   "source": [
    "# List of 5 best tourist places in the world\n",
    "tourist_places = [\n",
    "    \"Great Wall of China (China)\",\n",
    "    \"Colosseum (Rome, Italy)\",\n",
    "    \"Pyramids of Giza (Egypt)\",\n",
    "    \"Machu Picchu (Peru)\",\n",
    "    \"The Maldives\"\n",
    "]\n",
    "print(f\"original: {tourist_places}\")\n",
    "print(f\"sorted: {sorted(tourist_places)}\")\n",
    "print(f\"original: {tourist_places}\")\n",
    "print(f\"sorted reversed: {sorted(tourist_places,reverse=True)}\")\n",
    "print(f\"original: {tourist_places}\")\n",
    "tourist_places.reverse()\n",
    "print(f\"reversed: {tourist_places}\")\n",
    "tourist_places.reverse()\n",
    "print(f'double reversed: {tourist_places}')\n",
    "tourist_places.sort()\n",
    "print(f\"Sorted: {tourist_places}\")\n",
    "tourist_places.sort(reverse=True)\n",
    "print(f\"Reverse Sorted: {tourist_places}\")"
   ]
  },
  {
   "cell_type": "markdown",
   "metadata": {},
   "source": [
    "* Exercise 3-9: Dinner Guests"
   ]
  },
  {
   "cell_type": "code",
   "execution_count": 127,
   "metadata": {},
   "outputs": [
    {
     "name": "stdout",
     "output_type": "stream",
     "text": [
      "My current guest list for dinner invitations has 0 persons.\n"
     ]
    }
   ],
   "source": [
    "print(f\"My current guest list for dinner invitations has {len(invited_people)} persons.\")"
   ]
  },
  {
   "cell_type": "markdown",
   "metadata": {},
   "source": [
    "* Exercise 3-10: Every Function"
   ]
  },
  {
   "cell_type": "code",
   "execution_count": 128,
   "metadata": {},
   "outputs": [
    {
     "name": "stdout",
     "output_type": "stream",
     "text": [
      "['Nile River (Africa)', 'Amazon River (South America)', 'Yangtze River (China)', 'Mississippi-Missouri River System (USA)']\n",
      "['Nile River (Africa)', 'Amazon River (South America)', 'Yangtze River (China)', 'Mississippi-Missouri River System (USA)', 'Yenisei River (Russia)']\n",
      "['Nile River (Africa)', 'Amazon River (South America)', 'Yangtze River (China)', 'Mississippi-Missouri River System (USA)', 'Yenisei River (Russia)']\n",
      "[]\n",
      "['Nile River (Africa)', 'Amazon River (South America)', 'Yangtze River (China)', 'Mississippi-Missouri River System (USA)', 'Yenisei River (Russia)']\n",
      "biggest_rivers=['Nile River (Africa)', 'Amazon River (South America)', 'Yangtze River (China)', 'Mississippi-Missouri River System (USA)', 'Yenisei River (Russia)', 'Yellow River (Huang He) (China)', 'Mekong River (Southeast Asia)', 'Lena River (Russia)']\n",
      "count Mekong River in biggest_rivers = 1\n",
      "count Mekong River in more_rivers = 1\n",
      "biggest_rivers=['Nile River (Africa)', 'Amazon River (South America)', 'Yangtze River (China)', 'Mississippi-Missouri River System (USA)', 'Yenisei River (Russia)', 'Yellow River (Huang He) (China)', 'Mekong River (Southeast Asia)', 'Lena River (Russia)']\n",
      "Index of Mekong in biggest_rivers is 6\n",
      "biggest_rivers=['Nile River (Africa)', 'Amazon River (South America)', 'Yangtze River (China)', 'Mississippi-Missouri River System (USA)', 'Yenisei River (Russia)', 'Yellow River (Huang He) (China)', 'Lena River (Russia)']\n",
      "sorted: ['Amazon River (South America)', 'Lena River (Russia)', 'Mississippi-Missouri River System (USA)', 'Nile River (Africa)', 'Yangtze River (China)', 'Yellow River (Huang He) (China)', 'Yenisei River (Russia)']\n",
      "sorted reversed: ['Yenisei River (Russia)', 'Yellow River (Huang He) (China)', 'Yangtze River (China)', 'Nile River (Africa)', 'Mississippi-Missouri River System (USA)', 'Lena River (Russia)', 'Amazon River (South America)']\n",
      "sorted: ['Amazon River (South America)', 'Lena River (Russia)', 'Mississippi-Missouri River System (USA)', 'Nile River (Africa)', 'Yangtze River (China)', 'Yellow River (Huang He) (China)', 'Yenisei River (Russia)']\n",
      "reversed: ['Yenisei River (Russia)', 'Yellow River (Huang He) (China)', 'Yangtze River (China)', 'Nile River (Africa)', 'Mississippi-Missouri River System (USA)', 'Lena River (Russia)', 'Amazon River (South America)']\n",
      "biggest_rivers=['Lena River (Russia)', 'Mississippi-Missouri River System (USA)', 'Nile River (Africa)', 'Yangtze River (China)', 'Yellow River (Huang He) (China)', 'Yenisei River (Russia)']\n",
      "biggest_rivers=['Lena River (Russia)', 'Mississippi-Missouri River System (USA)', 'Nile River (Africa)', 'Yangtze River (China)', 'Yellow River (Huang He) (China)']\n"
     ]
    }
   ],
   "source": [
    "# List of the 5 biggest rivers in the world (by length)\n",
    "biggest_rivers = [\n",
    "    \"Nile River (Africa)\",\n",
    "    \"Amazon River (South America)\",\n",
    "    \"Yangtze River (China)\",\n",
    "    \"Mississippi-Missouri River System (USA)\",\n",
    "]\n",
    "more_rivers = [\n",
    "     \"Yellow River (Huang He) (China)\",  # Approx. 5,464 km\n",
    "    \"Mekong River (Southeast Asia)\",  # Approx. 4,350 km\n",
    "    \"Lena River (Russia)\"\n",
    "]\n",
    "# Print the list of biggest rivers\n",
    "print(biggest_rivers)\n",
    "biggest_rivers.append(\"Yenisei River (Russia)\")\n",
    "print(biggest_rivers)\n",
    "new_list = biggest_rivers.copy()\n",
    "print(new_list)\n",
    "new_list.clear()\n",
    "print(new_list)\n",
    "print(biggest_rivers)\n",
    "biggest_rivers.extend(more_rivers)\n",
    "print(f'biggest_rivers={biggest_rivers}')\n",
    "count = biggest_rivers.count(\"Mekong River (Southeast Asia)\")\n",
    "more_rivers_count = more_rivers.count(\"Mekong River (Southeast Asia)\")\n",
    "print(f\"count Mekong River in biggest_rivers = {count}\")\n",
    "print(f\"count Mekong River in more_rivers = {more_rivers_count}\") \n",
    "\n",
    "print(f'biggest_rivers={biggest_rivers}')\n",
    "print(f'Index of Mekong in biggest_rivers is {biggest_rivers.index(\"Mekong River (Southeast Asia)\")}')\n",
    "biggest_rivers.remove(\"Mekong River (Southeast Asia)\")\n",
    "print(f'biggest_rivers={biggest_rivers}')\n",
    "print(f\"sorted: {sorted(biggest_rivers)}\")\n",
    "print(f\"sorted reversed: {sorted(biggest_rivers,reverse=True)}\")\n",
    "biggest_rivers.sort()\n",
    "print(f\"sorted: {biggest_rivers}\")\n",
    "biggest_rivers.reverse()\n",
    "print(f\"reversed: {biggest_rivers}\")\n",
    "biggest_rivers.pop()\n",
    "biggest_rivers.insert(0,\"new river\")\n",
    "biggest_rivers.remove(\"new river\")\n",
    "biggest_rivers.reverse()\n",
    "print(f'biggest_rivers={biggest_rivers}')\n",
    "del biggest_rivers[-1]\n",
    "print(f'biggest_rivers={biggest_rivers}')\n"
   ]
  },
  {
   "cell_type": "markdown",
   "metadata": {},
   "source": [
    "* Exercise 3-11: Intentional Error"
   ]
  },
  {
   "cell_type": "code",
   "execution_count": 129,
   "metadata": {},
   "outputs": [
    {
     "name": "stdout",
     "output_type": "stream",
     "text": [
      "biggest_rivers=['Lena River (Russia)', 'Mississippi-Missouri River System (USA)', 'Nile River (Africa)', 'Yangtze River (China)', 'Yellow River (Huang He) (China)']\n"
     ]
    },
    {
     "ename": "IndexError",
     "evalue": "list assignment index out of range",
     "output_type": "error",
     "traceback": [
      "\u001b[1;31m---------------------------------------------------------------------------\u001b[0m",
      "\u001b[1;31mIndexError\u001b[0m                                Traceback (most recent call last)",
      "Cell \u001b[1;32mIn[129], line 8\u001b[0m\n\u001b[0;32m      6\u001b[0m biggest_rivers\u001b[38;5;241m.\u001b[39mremove(\u001b[38;5;124m\"\u001b[39m\u001b[38;5;124mAsad\u001b[39m\u001b[38;5;124m\"\u001b[39m)\n\u001b[0;32m      7\u001b[0m \u001b[38;5;28;01mdel\u001b[39;00m biggest_rivers[\u001b[38;5;241m-\u001b[39m\u001b[38;5;241m1\u001b[39m]\n\u001b[1;32m----> 8\u001b[0m \u001b[38;5;28;01mdel\u001b[39;00m \u001b[43mbiggest_rivers\u001b[49m\u001b[43m[\u001b[49m\u001b[38;5;241;43m-\u001b[39;49m\u001b[38;5;241;43m100\u001b[39;49m\u001b[43m]\u001b[49m\n\u001b[0;32m      9\u001b[0m \u001b[38;5;28mprint\u001b[39m(\u001b[38;5;124mf\u001b[39m\u001b[38;5;124m'\u001b[39m\u001b[38;5;124mbiggest_rivers=\u001b[39m\u001b[38;5;132;01m{\u001b[39;00mbiggest_rivers\u001b[38;5;132;01m}\u001b[39;00m\u001b[38;5;124m'\u001b[39m)\n",
      "\u001b[1;31mIndexError\u001b[0m: list assignment index out of range"
     ]
    }
   ],
   "source": [
    "print(f'biggest_rivers={biggest_rivers}')\n",
    "biggest_rivers.insert(0,\"Asad\")\n",
    "biggest_rivers.append(\"Asad\")\n",
    "biggest_rivers.insert(-1,\"River\")\n",
    "biggest_rivers.pop()\n",
    "biggest_rivers.remove(\"Asad\")\n",
    "del biggest_rivers[-1]\n",
    "del biggest_rivers[-100] # intentional error trying to access index out of range of the list\n",
    "print(f'biggest_rivers={biggest_rivers}')"
   ]
  },
  {
   "cell_type": "code",
   "execution_count": 107,
   "metadata": {},
   "outputs": [
    {
     "name": "stdout",
     "output_type": "stream",
     "text": [
      "biggest_rivers=['Lena River (Russia)', 'Mississippi-Missouri River System (USA)', 'Nile River (Africa)', 'Yangtze River (China)']\n",
      "biggest_rivers=['Mississippi-Missouri River System (USA)']\n"
     ]
    }
   ],
   "source": [
    "print(f'biggest_rivers={biggest_rivers}')\n",
    "biggest_rivers.pop()\n",
    "del biggest_rivers[-1]\n",
    "del biggest_rivers[-2]\n",
    "print(f'biggest_rivers={biggest_rivers}')"
   ]
  }
 ],
 "metadata": {
  "kernelspec": {
   "display_name": "Python 3",
   "language": "python",
   "name": "python3"
  },
  "language_info": {
   "codemirror_mode": {
    "name": "ipython",
    "version": 3
   },
   "file_extension": ".py",
   "mimetype": "text/x-python",
   "name": "python",
   "nbconvert_exporter": "python",
   "pygments_lexer": "ipython3",
   "version": "3.13.1"
  }
 },
 "nbformat": 4,
 "nbformat_minor": 2
}
